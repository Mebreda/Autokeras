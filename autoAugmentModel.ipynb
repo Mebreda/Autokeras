{
 "cells": [
  {
   "cell_type": "code",
   "execution_count": 3,
   "metadata": {},
   "outputs": [
    {
     "name": "stdout",
     "output_type": "stream",
     "text": [
      "Requirement already satisfied: torchvision in c:\\users\\pc\\appdata\\local\\programs\\python\\python311\\lib\\site-packages (0.17.0)\n",
      "Requirement already satisfied: numpy in c:\\users\\pc\\appdata\\local\\programs\\python\\python311\\lib\\site-packages (from torchvision) (1.26.2)\n",
      "Requirement already satisfied: requests in c:\\users\\pc\\appdata\\local\\programs\\python\\python311\\lib\\site-packages (from torchvision) (2.31.0)\n",
      "Requirement already satisfied: torch==2.2.0 in c:\\users\\pc\\appdata\\local\\programs\\python\\python311\\lib\\site-packages (from torchvision) (2.2.0)\n",
      "Requirement already satisfied: pillow!=8.3.*,>=5.3.0 in c:\\users\\pc\\appdata\\local\\programs\\python\\python311\\lib\\site-packages (from torchvision) (10.1.0)\n",
      "Requirement already satisfied: filelock in c:\\users\\pc\\appdata\\local\\programs\\python\\python311\\lib\\site-packages (from torch==2.2.0->torchvision) (3.13.1)\n",
      "Requirement already satisfied: typing-extensions>=4.8.0 in c:\\users\\pc\\appdata\\local\\programs\\python\\python311\\lib\\site-packages (from torch==2.2.0->torchvision) (4.8.0)\n",
      "Requirement already satisfied: sympy in c:\\users\\pc\\appdata\\local\\programs\\python\\python311\\lib\\site-packages (from torch==2.2.0->torchvision) (1.12)\n",
      "Requirement already satisfied: networkx in c:\\users\\pc\\appdata\\local\\programs\\python\\python311\\lib\\site-packages (from torch==2.2.0->torchvision) (3.2.1)\n",
      "Requirement already satisfied: jinja2 in c:\\users\\pc\\appdata\\local\\programs\\python\\python311\\lib\\site-packages (from torch==2.2.0->torchvision) (3.1.3)\n",
      "Requirement already satisfied: fsspec in c:\\users\\pc\\appdata\\local\\programs\\python\\python311\\lib\\site-packages (from torch==2.2.0->torchvision) (2024.2.0)\n",
      "Requirement already satisfied: charset-normalizer<4,>=2 in c:\\users\\pc\\appdata\\local\\programs\\python\\python311\\lib\\site-packages (from requests->torchvision) (3.3.2)\n",
      "Requirement already satisfied: idna<4,>=2.5 in c:\\users\\pc\\appdata\\local\\programs\\python\\python311\\lib\\site-packages (from requests->torchvision) (3.4)\n",
      "Requirement already satisfied: urllib3<3,>=1.21.1 in c:\\users\\pc\\appdata\\local\\programs\\python\\python311\\lib\\site-packages (from requests->torchvision) (2.1.0)\n",
      "Requirement already satisfied: certifi>=2017.4.17 in c:\\users\\pc\\appdata\\local\\programs\\python\\python311\\lib\\site-packages (from requests->torchvision) (2023.11.17)\n",
      "Requirement already satisfied: MarkupSafe>=2.0 in c:\\users\\pc\\appdata\\local\\programs\\python\\python311\\lib\\site-packages (from jinja2->torch==2.2.0->torchvision) (2.1.3)\n",
      "Requirement already satisfied: mpmath>=0.19 in c:\\users\\pc\\appdata\\local\\programs\\python\\python311\\lib\\site-packages (from sympy->torch==2.2.0->torchvision) (1.3.0)\n"
     ]
    },
    {
     "name": "stderr",
     "output_type": "stream",
     "text": [
      "\n",
      "[notice] A new release of pip is available: 23.3.1 -> 24.0\n",
      "[notice] To update, run: python.exe -m pip install --upgrade pip\n"
     ]
    }
   ],
   "source": [
    "!pip install torchvision"
   ]
  },
  {
   "cell_type": "code",
   "execution_count": 1,
   "metadata": {},
   "outputs": [
    {
     "name": "stdout",
     "output_type": "stream",
     "text": [
      "WARNING:tensorflow:From c:\\Users\\PC\\AppData\\Local\\Programs\\Python\\Python311\\Lib\\site-packages\\keras\\src\\losses.py:2976: The name tf.losses.sparse_softmax_cross_entropy is deprecated. Please use tf.compat.v1.losses.sparse_softmax_cross_entropy instead.\n",
      "\n"
     ]
    }
   ],
   "source": [
    "\n",
    "import numpy as np\n",
    "import autokeras as ak\n",
    "from keras.preprocessing.image import ImageDataGenerator\n",
    "from torchvision.transforms import transforms\n",
    "from torchvision.transforms.functional import to_tensor\n",
    "from torchvision.transforms import v2"
   ]
  },
  {
   "cell_type": "code",
   "execution_count": 2,
   "metadata": {},
   "outputs": [],
   "source": [
    "import matplotlib.pyplot as plt"
   ]
  },
  {
   "cell_type": "code",
   "execution_count": 3,
   "metadata": {},
   "outputs": [
    {
     "name": "stdout",
     "output_type": "stream",
     "text": [
      "Found 322 images belonging to 3 classes.\n",
      "Found 54 images belonging to 3 classes.\n"
     ]
    }
   ],
   "source": [
    "data_dir = 'data pics'\n",
    "\n",
    "# Define the AutoAugment policy\n",
    "autoaugment_policy = v2.AutoAugmentPolicy.IMAGENET\n",
    "autoaugment_transform = v2.AutoAugment(autoaugment_policy)\n",
    "\n",
    "# Use ImageDataGenerator to load and preprocess the images\n",
    "datagen = ImageDataGenerator(rescale = 1. / 255)\n",
    "\n",
    "# Define the data generators for training, validation, and testing\n",
    "train_generator = datagen.flow_from_directory(\n",
    "    directory = f'{data_dir}/train',\n",
    "    target_size = (256, 256),\n",
    "    batch_size = 16,\n",
    "    class_mode = 'categorical'\n",
    ")\n",
    "\n",
    "\n",
    "test_generator = datagen.flow_from_directory(\n",
    "    directory = f'{data_dir}/test',\n",
    "    target_size = (256, 256),\n",
    "    batch_size = 1,\n",
    "    class_mode = 'categorical',\n",
    "    shuffle = False\n",
    ")"
   ]
  },
  {
   "cell_type": "code",
   "execution_count": 7,
   "metadata": {},
   "outputs": [],
   "source": [
    "\n",
    "\n",
    "# Initialize empty lists for training and test data and labels\n",
    "x_train, y_train = [], []\n",
    "x_test, y_test = [], []\n",
    "test = []\n",
    "test1 = []\n",
    "\n",
    "# Load training data in batches\n",
    "for _ in range(len(train_generator)):\n",
    "    batch_x, batch_y = train_generator.next()\n",
    "\n",
    "    # Apply AutoAugment to each image in the batch\n",
    "    augmented_images = []\n",
    "    augmented_images_labels = []\n",
    "    n = 0\n",
    "    for image in batch_x:\n",
    "        # Convert the image to a tensor (required for AutoAugment)\n",
    "        tensor_image = to_tensor(image)\n",
    "        \n",
    "        # plt.imshow(image)\n",
    "        # plt.title('Original Image')\n",
    "        # plt.show()\n",
    "        # Apply AutoAugment policy\n",
    "        for _ in range(3):  \n",
    "            augmented_tensor = autoaugment_transform(tensor_image)\n",
    "            augmented_image = transforms.ToPILImage()(augmented_tensor)\n",
    "            augmented_images.append(np.array(augmented_image))\n",
    "            augmented_images_labels.append(np.array(batch_y[n]))\n",
    "            # plt.imshow(np.array(augmented_image))\n",
    "            # plt.title('Augmented Image')\n",
    "            # plt.show()\n",
    "\n",
    "        n += 1\n",
    "\n",
    "    x_train.append(batch_x)\n",
    "    y_train.append(batch_y)\n",
    "    x_train.append(augmented_images)\n",
    "    y_train.append(augmented_images_labels)\n",
    "\n",
    "# Load test data in batches\n",
    "for _ in range(len(test_generator)):\n",
    "    batch_x, batch_y = test_generator.next()\n",
    "\n",
    "    # Apply AutoAugment to each image in the batch\n",
    "    augmented_images = []\n",
    "    augmented_images_labels = []\n",
    "    n = 0\n",
    "    for image in batch_x:\n",
    "        # Convert the image to a tensor (required for AutoAugment)\n",
    "        tensor_image = to_tensor(image)\n",
    "        \n",
    "        # plt.imshow(image)\n",
    "        # plt.title('Original Image')\n",
    "        # plt.show()\n",
    "        # Apply AutoAugment policy\n",
    "        for _ in range(3):\n",
    "            augmented_tensor = autoaugment_transform(tensor_image)\n",
    "            augmented_image = transforms.ToPILImage()(augmented_tensor)\n",
    "            augmented_images.append(np.array(augmented_image))\n",
    "            augmented_images_labels.append(np.array(batch_y[n]))\n",
    "            # plt.imshow(np.array(augmented_image))\n",
    "            # plt.title('Augmented Image')\n",
    "            # plt.show()\n",
    "\n",
    "        n += 1\n",
    "\n",
    "    \n",
    "    x_test.append(batch_x)\n",
    "    y_test.append(batch_y)\n",
    "    x_test.append(augmented_images)\n",
    "    y_test.append(augmented_images_labels)\n"
   ]
  },
  {
   "cell_type": "code",
   "execution_count": 8,
   "metadata": {},
   "outputs": [],
   "source": [
    "# Concatenate the training and test data\n",
    "x_train = np.concatenate(x_train)\n",
    "x_test = np.concatenate(x_test)\n",
    "\n",
    "# Concatenate the labels and then convert to integer labels\n",
    "y_train = np.concatenate(y_train, axis=0)\n",
    "y_train = np.argmax(y_train, axis=1)\n",
    "\n",
    "y_test = np.concatenate(y_test, axis=0)\n",
    "y_test = np.argmax(y_test, axis=1)\n"
   ]
  },
  {
   "cell_type": "code",
   "execution_count": 9,
   "metadata": {},
   "outputs": [
    {
     "name": "stdout",
     "output_type": "stream",
     "text": [
      "Trial 1 Complete [00h 29m 58s]\n",
      "val_accuracy: 0.8663793206214905\n",
      "\n",
      "Best val_accuracy So Far: 0.8663793206214905\n",
      "Total elapsed time: 00h 29m 58s\n",
      "Epoch 1/10\n",
      "41/41 [==============================] - 196s 5s/step - loss: 4.2967 - accuracy: 0.6576\n",
      "Epoch 2/10\n",
      "41/41 [==============================] - 224s 6s/step - loss: 0.3323 - accuracy: 0.8245\n",
      "Epoch 3/10\n",
      "41/41 [==============================] - 201s 5s/step - loss: 0.2989 - accuracy: 0.8300\n",
      "Epoch 4/10\n",
      "41/41 [==============================] - 220s 5s/step - loss: 0.2844 - accuracy: 0.8354\n",
      "Epoch 5/10\n",
      "41/41 [==============================] - 212s 5s/step - loss: 0.2828 - accuracy: 0.8339\n",
      "Epoch 6/10\n",
      "41/41 [==============================] - 197s 5s/step - loss: 0.2787 - accuracy: 0.8346\n",
      "Epoch 7/10\n",
      "41/41 [==============================] - 194s 5s/step - loss: 0.2820 - accuracy: 0.8292\n",
      "Epoch 8/10\n",
      "41/41 [==============================] - 237s 6s/step - loss: 0.2846 - accuracy: 0.8307\n",
      "Epoch 9/10\n",
      "41/41 [==============================] - 223s 5s/step - loss: 0.2774 - accuracy: 0.8346\n",
      "Epoch 10/10\n",
      "41/41 [==============================] - 220s 5s/step - loss: 0.2758 - accuracy: 0.8346\n",
      "INFO:tensorflow:Assets written to: .\\image_classifier\\best_model\\assets\n"
     ]
    },
    {
     "name": "stderr",
     "output_type": "stream",
     "text": [
      "INFO:tensorflow:Assets written to: .\\image_classifier\\best_model\\assets\n"
     ]
    },
    {
     "data": {
      "text/plain": [
       "<keras.src.callbacks.History at 0x20f0807e010>"
      ]
     },
     "execution_count": 9,
     "metadata": {},
     "output_type": "execute_result"
    }
   ],
   "source": [
    "clf = ak.ImageClassifier(\n",
    "    max_trials = 1,\n",
    "    objective = 'val_accuracy',\n",
    "    overwrite = True,\n",
    ")\n",
    "\n",
    "# Search for the best model architecture\n",
    "clf.fit(x_train, y_train, epochs = 10)"
   ]
  },
  {
   "cell_type": "code",
   "execution_count": 10,
   "metadata": {},
   "outputs": [
    {
     "name": "stdout",
     "output_type": "stream",
     "text": [
      "WARNING:tensorflow:From c:\\Users\\PC\\AppData\\Local\\Programs\\Python\\Python311\\Lib\\site-packages\\keras\\src\\saving\\legacy\\saved_model\\load.py:107: The name tf.gfile.Exists is deprecated. Please use tf.io.gfile.exists instead.\n",
      "\n"
     ]
    },
    {
     "name": "stderr",
     "output_type": "stream",
     "text": [
      "WARNING:tensorflow:From c:\\Users\\PC\\AppData\\Local\\Programs\\Python\\Python311\\Lib\\site-packages\\keras\\src\\saving\\legacy\\saved_model\\load.py:107: The name tf.gfile.Exists is deprecated. Please use tf.io.gfile.exists instead.\n",
      "\n"
     ]
    },
    {
     "name": "stdout",
     "output_type": "stream",
     "text": [
      "7/7 [==============================] - 6s 780ms/step - loss: 0.3001 - accuracy: 0.8287\n",
      "[0.3001139163970947, 0.8287037014961243]\n",
      "Test accuracy: 0.8287037014961243\n"
     ]
    }
   ],
   "source": [
    "results = clf.evaluate(x_test, y_test)\n",
    "print(results)\n",
    "print(\"Test accuracy:\", results[1])"
   ]
  },
  {
   "cell_type": "code",
   "execution_count": 11,
   "metadata": {},
   "outputs": [
    {
     "name": "stdout",
     "output_type": "stream",
     "text": [
      "INFO:tensorflow:Assets written to: AI_model_autoAugment\\assets\n"
     ]
    },
    {
     "name": "stderr",
     "output_type": "stream",
     "text": [
      "INFO:tensorflow:Assets written to: AI_model_autoAugment\\assets\n"
     ]
    }
   ],
   "source": [
    "saved_model_path = \"AI_model_autoAugment\"\n",
    "clf.export_model().save(saved_model_path)"
   ]
  },
  {
   "cell_type": "code",
   "execution_count": 4,
   "metadata": {},
   "outputs": [],
   "source": [
    "from keras.models import load_model"
   ]
  },
  {
   "cell_type": "code",
   "execution_count": 6,
   "metadata": {},
   "outputs": [
    {
     "name": "stdout",
     "output_type": "stream",
     "text": [
      "WARNING:tensorflow:From c:\\Users\\PC\\AppData\\Local\\Programs\\Python\\Python311\\Lib\\site-packages\\keras\\src\\saving\\legacy\\saved_model\\load.py:107: The name tf.gfile.Exists is deprecated. Please use tf.io.gfile.exists instead.\n",
      "\n",
      "WARNING:tensorflow:From c:\\Users\\PC\\AppData\\Local\\Programs\\Python\\Python311\\Lib\\site-packages\\keras\\src\\engine\\functional.py:156: The name tf.executing_eagerly_outside_functions is deprecated. Please use tf.compat.v1.executing_eagerly_outside_functions instead.\n",
      "\n",
      "WARNING:tensorflow:From c:\\Users\\PC\\AppData\\Local\\Programs\\Python\\Python311\\Lib\\site-packages\\keras\\src\\layers\\pooling\\max_pooling2d.py:161: The name tf.nn.max_pool is deprecated. Please use tf.nn.max_pool2d instead.\n",
      "\n"
     ]
    }
   ],
   "source": [
    "saved_model_path = \"AI_model_autoAugment\"\n",
    "model = load_model(saved_model_path, custom_objects=ak.CUSTOM_OBJECTS)"
   ]
  },
  {
   "cell_type": "code",
   "execution_count": 7,
   "metadata": {},
   "outputs": [],
   "source": [
    "model_json = model.to_json()\n",
    "with open(\"model_architecture.json\", \"w\") as json_file:\n",
    "    json_file.write(model_json)\n",
    "\n",
    "model.save_weights(\"model_weights.h5\")"
   ]
  },
  {
   "cell_type": "code",
   "execution_count": 8,
   "metadata": {},
   "outputs": [],
   "source": [
    "import h5py"
   ]
  },
  {
   "cell_type": "code",
   "execution_count": 11,
   "metadata": {},
   "outputs": [],
   "source": [
    "# Function to recursively visit all datasets in the HDF5 file\n",
    "def collect_datasets(name, obj):\n",
    "    if isinstance(obj, h5py.Dataset):\n",
    "        datasets.append(obj[()])\n",
    "\n",
    "# Open the HDF5 file in read mode\n",
    "with h5py.File('model_weights.h5', 'r') as h5_file:\n",
    "    datasets = []\n",
    "    # Recursively visit all datasets in the file\n",
    "    h5_file.visititems(collect_datasets)\n",
    "\n",
    "# Concatenate all datasets\n",
    "data = b''.join(datasets)\n",
    "\n",
    "# Specify the binary file name\n",
    "bin_file_name = 'model_weights.bin'\n",
    "\n",
    "# Write the data to the binary file\n",
    "with open(bin_file_name, 'wb') as bin_file:\n",
    "    bin_file.write(data)"
   ]
  }
 ],
 "metadata": {
  "kernelspec": {
   "display_name": "Python 3",
   "language": "python",
   "name": "python3"
  },
  "language_info": {
   "codemirror_mode": {
    "name": "ipython",
    "version": 3
   },
   "file_extension": ".py",
   "mimetype": "text/x-python",
   "name": "python",
   "nbconvert_exporter": "python",
   "pygments_lexer": "ipython3",
   "version": "3.11.6"
  }
 },
 "nbformat": 4,
 "nbformat_minor": 2
}
