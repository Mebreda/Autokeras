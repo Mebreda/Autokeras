{
 "cells": [
  {
   "cell_type": "code",
   "execution_count": null,
   "metadata": {},
   "outputs": [],
   "source": [
    "!pip install torchvision"
   ]
  },
  {
   "cell_type": "code",
   "execution_count": 1,
   "metadata": {},
   "outputs": [
    {
     "name": "stdout",
     "output_type": "stream",
     "text": [
      "WARNING:tensorflow:From c:\\Users\\PC\\AppData\\Local\\Programs\\Python\\Python311\\Lib\\site-packages\\keras\\src\\losses.py:2976: The name tf.losses.sparse_softmax_cross_entropy is deprecated. Please use tf.compat.v1.losses.sparse_softmax_cross_entropy instead.\n",
      "\n"
     ]
    }
   ],
   "source": [
    "\n",
    "import numpy as np\n",
    "import autokeras as ak\n",
    "from keras.preprocessing.image import ImageDataGenerator\n",
    "from torchvision.transforms import transforms\n",
    "from torchvision.transforms.functional import to_tensor\n",
    "from torchvision.transforms import v2"
   ]
  },
  {
   "cell_type": "code",
   "execution_count": 4,
   "metadata": {},
   "outputs": [
    {
     "name": "stdout",
     "output_type": "stream",
     "text": [
      "Found 322 images belonging to 3 classes.\n",
      "Found 54 images belonging to 3 classes.\n"
     ]
    }
   ],
   "source": [
    "data_dir = 'Dog Breed Dataset'\n",
    "\n",
    "# Use ImageDataGenerator to load and preprocess the images\n",
    "datagen = ImageDataGenerator(rescale = 1. / 255)\n",
    "\n",
    "# Define the data generators for training, validation, and testing\n",
    "train_generator = datagen.flow_from_directory(\n",
    "    directory = f'{data_dir}/train',\n",
    "    target_size = (256, 256),\n",
    "    batch_size = 16,\n",
    "    class_mode = 'categorical'\n",
    ")\n",
    "\n",
    "\n",
    "test_generator = datagen.flow_from_directory(\n",
    "    directory = f'{data_dir}/test',\n",
    "    target_size = (256, 256),\n",
    "    batch_size = 1,\n",
    "    class_mode = 'categorical',\n",
    "    shuffle = False\n",
    ")"
   ]
  },
  {
   "cell_type": "code",
   "execution_count": 5,
   "metadata": {},
   "outputs": [],
   "source": [
    "\n",
    "\n",
    "# Initialize empty lists for training and test data and labels\n",
    "x_train, y_train = [], []\n",
    "x_test, y_test = [], []\n",
    "\n",
    "# Load training data in batches\n",
    "for _ in range(len(train_generator)):\n",
    "    batch_x, batch_y = train_generator.next()\n",
    "    x_train.append(batch_x)\n",
    "    y_train.append(batch_y)\n",
    "\n",
    "# Load test data in batches\n",
    "for _ in range(len(test_generator)):\n",
    "    batch_x, batch_y = test_generator.next()\n",
    "    x_test.append(batch_x)\n",
    "    y_test.append(batch_y)\n",
    "\n"
   ]
  },
  {
   "cell_type": "code",
   "execution_count": 6,
   "metadata": {},
   "outputs": [],
   "source": [
    "# Concatenate the training and test data\n",
    "x_train = np.concatenate(x_train)\n",
    "x_test = np.concatenate(x_test)\n",
    "\n",
    "# Concatenate the labels and then convert to integer labels\n",
    "y_train = np.concatenate(y_train)\n",
    "y_train = np.argmax(y_train, axis=1)\n",
    "\n",
    "y_test = np.concatenate(y_test)\n",
    "y_test = np.argmax(y_test, axis=1)\n"
   ]
  },
  {
   "cell_type": "code",
   "execution_count": 7,
   "metadata": {},
   "outputs": [
    {
     "name": "stdout",
     "output_type": "stream",
     "text": [
      "Trial 1 Complete [00h 09m 55s]\n",
      "val_accuracy: 1.0\n",
      "\n",
      "Best val_accuracy So Far: 1.0\n",
      "Total elapsed time: 00h 09m 55s\n"
     ]
    },
    {
     "name": "stdout",
     "output_type": "stream",
     "text": [
      "Epoch 1/10\n",
      "11/11 [==============================] - 51s 4s/step - loss: 4.7765 - accuracy: 0.8106\n",
      "Epoch 2/10\n",
      "11/11 [==============================] - 49s 4s/step - loss: 6.3426e-04 - accuracy: 1.0000\n",
      "Epoch 3/10\n",
      "11/11 [==============================] - 79s 7s/step - loss: 2.5901e-06 - accuracy: 1.0000\n",
      "Epoch 4/10\n",
      "11/11 [==============================] - 65s 5s/step - loss: 0.0000e+00 - accuracy: 1.0000\n",
      "Epoch 5/10\n",
      "11/11 [==============================] - 62s 6s/step - loss: 0.0000e+00 - accuracy: 1.0000\n",
      "Epoch 6/10\n",
      "11/11 [==============================] - 62s 6s/step - loss: 0.0000e+00 - accuracy: 1.0000\n",
      "Epoch 7/10\n",
      "11/11 [==============================] - 49s 4s/step - loss: 0.0000e+00 - accuracy: 1.0000\n",
      "Epoch 8/10\n",
      "11/11 [==============================] - 49s 4s/step - loss: 0.0000e+00 - accuracy: 1.0000\n",
      "Epoch 9/10\n",
      "11/11 [==============================] - 53s 5s/step - loss: 0.0000e+00 - accuracy: 1.0000\n",
      "Epoch 10/10\n",
      "11/11 [==============================] - 56s 5s/step - loss: 0.0000e+00 - accuracy: 1.0000\n",
      "INFO:tensorflow:Assets written to: .\\image_classifier\\best_model\\assets\n"
     ]
    },
    {
     "name": "stderr",
     "output_type": "stream",
     "text": [
      "INFO:tensorflow:Assets written to: .\\image_classifier\\best_model\\assets\n"
     ]
    },
    {
     "data": {
      "text/plain": [
       "<keras.src.callbacks.History at 0x1baed28d290>"
      ]
     },
     "execution_count": 7,
     "metadata": {},
     "output_type": "execute_result"
    }
   ],
   "source": [
    "clf = ak.ImageClassifier(\n",
    "    max_trials = 5,\n",
    "    objective = 'val_accuracy',\n",
    "    overwrite = True,\n",
    ")\n",
    "\n",
    "# Search for the best model architecture\n",
    "clf.fit(x_train, y_train, epochs = 10)"
   ]
  },
  {
   "cell_type": "code",
   "execution_count": 8,
   "metadata": {},
   "outputs": [
    {
     "name": "stdout",
     "output_type": "stream",
     "text": [
      "WARNING:tensorflow:From c:\\Users\\PC\\AppData\\Local\\Programs\\Python\\Python311\\Lib\\site-packages\\keras\\src\\saving\\legacy\\saved_model\\load.py:107: The name tf.gfile.Exists is deprecated. Please use tf.io.gfile.exists instead.\n",
      "\n"
     ]
    },
    {
     "name": "stderr",
     "output_type": "stream",
     "text": [
      "WARNING:tensorflow:From c:\\Users\\PC\\AppData\\Local\\Programs\\Python\\Python311\\Lib\\site-packages\\keras\\src\\saving\\legacy\\saved_model\\load.py:107: The name tf.gfile.Exists is deprecated. Please use tf.io.gfile.exists instead.\n",
      "\n"
     ]
    },
    {
     "name": "stdout",
     "output_type": "stream",
     "text": [
      "2/2 [==============================] - 2s 631ms/step - loss: 1.1038e-08 - accuracy: 1.0000\n",
      "[1.1037893266063747e-08, 1.0]\n",
      "Test accuracy: 1.0\n"
     ]
    }
   ],
   "source": [
    "results = clf.evaluate(x_test, y_test)\n",
    "print(results)\n",
    "print(\"Test accuracy:\", results[1])"
   ]
  },
  {
   "cell_type": "code",
   "execution_count": 9,
   "metadata": {},
   "outputs": [],
   "source": [
    "from sklearn.metrics import classification_report"
   ]
  },
  {
   "cell_type": "code",
   "execution_count": 10,
   "metadata": {},
   "outputs": [
    {
     "name": "stdout",
     "output_type": "stream",
     "text": [
      "2/2 [==============================] - 2s 625ms/step\n",
      "2/2 [==============================] - 2s 867ms/step\n",
      "              precision    recall  f1-score   support\n",
      "\n",
      "           0       0.33      1.00      0.50        18\n",
      "           1       0.00      0.00      0.00        18\n",
      "           2       0.00      0.00      0.00        18\n",
      "\n",
      "    accuracy                           0.33        54\n",
      "   macro avg       0.11      0.33      0.17        54\n",
      "weighted avg       0.11      0.33      0.17        54\n",
      "\n"
     ]
    },
    {
     "name": "stderr",
     "output_type": "stream",
     "text": [
      "c:\\Users\\PC\\AppData\\Local\\Programs\\Python\\Python311\\Lib\\site-packages\\sklearn\\metrics\\_classification.py:1497: UndefinedMetricWarning: Precision is ill-defined and being set to 0.0 in labels with no predicted samples. Use `zero_division` parameter to control this behavior.\n",
      "  _warn_prf(average, modifier, f\"{metric.capitalize()} is\", len(result))\n",
      "c:\\Users\\PC\\AppData\\Local\\Programs\\Python\\Python311\\Lib\\site-packages\\sklearn\\metrics\\_classification.py:1497: UndefinedMetricWarning: Precision is ill-defined and being set to 0.0 in labels with no predicted samples. Use `zero_division` parameter to control this behavior.\n",
      "  _warn_prf(average, modifier, f\"{metric.capitalize()} is\", len(result))\n",
      "c:\\Users\\PC\\AppData\\Local\\Programs\\Python\\Python311\\Lib\\site-packages\\sklearn\\metrics\\_classification.py:1497: UndefinedMetricWarning: Precision is ill-defined and being set to 0.0 in labels with no predicted samples. Use `zero_division` parameter to control this behavior.\n",
      "  _warn_prf(average, modifier, f\"{metric.capitalize()} is\", len(result))\n"
     ]
    }
   ],
   "source": [
    "y_pred = clf.predict(x_test)\n",
    "y_pred_classes = np.argmax(y_pred, axis=1)\n",
    "\n",
    "# Calculate precision, recall, accuracy, and F1 score\n",
    "report = classification_report(y_test, y_pred_classes)\n",
    "print(report)"
   ]
  },
  {
   "cell_type": "code",
   "execution_count": null,
   "metadata": {},
   "outputs": [],
   "source": [
    "\n",
    "clf.export_model().save(\"Dog Breed Model\")"
   ]
  }
 ],
 "metadata": {
  "kernelspec": {
   "display_name": "Python 3",
   "language": "python",
   "name": "python3"
  },
  "language_info": {
   "codemirror_mode": {
    "name": "ipython",
    "version": 3
   },
   "file_extension": ".py",
   "mimetype": "text/x-python",
   "name": "python",
   "nbconvert_exporter": "python",
   "pygments_lexer": "ipython3",
   "version": "3.11.6"
  }
 },
 "nbformat": 4,
 "nbformat_minor": 2
}
